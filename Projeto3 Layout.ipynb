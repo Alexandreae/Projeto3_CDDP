{
 "cells": [
  {
   "cell_type": "markdown",
   "metadata": {},
   "source": [
    "___\n",
    "# Ciência dos Dados - PROJETO 3 - INSPER"
   ]
  },
  {
   "cell_type": "markdown",
   "metadata": {},
   "source": [
    "___\n",
    "## Alexandre Edington\n",
    "\n",
    "## Bruno Cury\n",
    "\n",
    "## Matheus Soares\n",
    "\n",
    "___"
   ]
  },
  {
   "cell_type": "markdown",
   "metadata": {},
   "source": [
    "___\n",
    "\n",
    "## INTRODUÇÃO"
   ]
  },
  {
   "cell_type": "markdown",
   "metadata": {},
   "source": [
    "\n",
    "Não vem de hoje o grande interesse da sociedade em vídeo games, porém, há aproximadamente dez anos atrás, a visão que tínhamos sobre o ato de jogar vídeo game e sua indústria era completamente diferente.\n",
    "Em 2007 os jogos com maiores ambições comerciais projetavam um lucro multimilionário e a venda dos mesmos era feita através de discos que seriam rodados em seu console de preferência.\n",
    "Hoje em dia os consoles são apenas uma parcela do vasto universo de aparelhos que rodam vídeo games, e a venda destes jogos já não se da mais por discos, sua grande maioria vem de downloads e seus lucros são projetados na faixa dos biliões de dólares. Os videogames são agora, onipresentes em nossas vidas, qualquer um com um smartphone tem acesso a uma variedade de jogos, disponíveis na plataforma de download do seu sistema operacional (iOS, Android, google play), ou até nas redes sociais como Facebook, que se tornou uma grande plataforma de jogos online. \n",
    "Com isso em mente, resolvemos analisar os dados da maior plataforma de download de vídeo games da internet, afim de quantificar o impacto dos jogos no mundo por meio da análise de suas características mais importantes. E então, a partir desta análise, predizer o sucesso (ou falta dele) na arrecadação mundial de algum jogo, através do input de algumas de suas características."
   ]
  },
  {
   "cell_type": "markdown",
   "metadata": {},
   "source": [
    "___\n",
    "## MINERANDO DADOS e CARACTERÍSTICAS DO DATASET"
   ]
  },
  {
   "cell_type": "markdown",
   "metadata": {},
   "source": [
    "Os dados utilizados neste experimento foram retirados na integra do site data.world, onde são disponibilizados diversos bancos de dados; o Dataset escolhido é inteiramente referente às características dos jogos disponíveis na plataforma Steam. Inicialmente, o banco de dados em questão contava com mais de 70 variáveis e uma ampla quantidade de dados, porém o mesmo precisou ser filtrado, em prol da eficiência e organização foi feita a retirada de variáveis indesejadas e a retirada de dados nulos. Escolhemos também agrupar algumas variáveis, como as entradas de gênero (Indie, Action, Adventure, Casual, Strategy, RPG, Simulation, Sports, Racing), que se tornaram uma só variável, assim como a compatibilidade com Mac, Linux e Windows se tornaram uma só entrada."
   ]
  },
  {
   "cell_type": "code",
   "execution_count": 17,
   "metadata": {
    "collapsed": true
   },
   "outputs": [],
   "source": [
    "import pandas as pd\n",
    "import os\n",
    "from collections import Counter\n",
    "%matplotlib inline\n",
    "import numpy as np\n",
    "import matplotlib.pyplot as plt\n"
   ]
  },
  {
   "cell_type": "code",
   "execution_count": 2,
   "metadata": {
    "collapsed": true
   },
   "outputs": [],
   "source": [
    "df = pd.read_csv(\"games-features.csv\",error_bad_lines=False,sep=\";\")"
   ]
  },
  {
   "cell_type": "markdown",
   "metadata": {},
   "source": [
    "### BASE DE DADOS"
   ]
  },
  {
   "cell_type": "code",
   "execution_count": 3,
   "metadata": {
    "collapsed": true
   },
   "outputs": [],
   "source": [
    "dados = pd.DataFrame()\n",
    "dados[\"NOME\"] = df[\"ResponseName\"]\n",
    "dados[\"LANCAMENTO\"] = df[\"ReleaseDate\"]\n",
    "dados[\"ACHIEVEMENTS\"] = df[\"AchievementCount\"]\n",
    "dados[\"LINGUAS\"] = df[\"SupportedLanguages\"]\n",
    "dados[\"LINGUAS_N\"] = df[\"SupportedLanguages\"]\n",
    "dados[\"INDIE\"] = df[\"GenreIsIndie\"]\n",
    "dados[\"ACTION\"] = df[\"GenreIsAction\"]\n",
    "dados[\"ADVENTURE\"] = df[\"GenreIsAdventure\"]\n",
    "dados[\"CASUAL\"] = df[\"GenreIsCasual\"]\n",
    "dados[\"STRATEGY\"] = df[\"GenreIsStrategy\"]\n",
    "dados[\"RPG\"] = df[\"GenreIsRPG\"]\n",
    "dados[\"SIMULATION\"] = df[\"GenreIsSimulation\"]\n",
    "dados[\"SPORTS\"] = df[\"GenreIsSports\"]\n",
    "dados[\"RACING\"] = df[\"GenreIsRacing\"]\n",
    "dados[\"NUM_PROPRIETARIOS\"] = df[\"SteamSpyOwners\"]\n",
    "dados[\"PRECO_INICIAL\"] = df[\"PriceInitial\"]\n",
    "dados[\"PRECO_FINAL\"] = df[\"PriceFinal\"]"
   ]
  },
  {
   "cell_type": "code",
   "execution_count": null,
   "metadata": {
    "collapsed": true
   },
   "outputs": [],
   "source": []
  },
  {
   "cell_type": "code",
   "execution_count": 5,
   "metadata": {},
   "outputs": [
    {
     "name": "stderr",
     "output_type": "stream",
     "text": [
      "C:\\Users\\Bruno\\Anaconda3\\lib\\site-packages\\ipykernel\\__main__.py:2: SettingWithCopyWarning: \n",
      "A value is trying to be set on a copy of a slice from a DataFrame\n",
      "\n",
      "See the caveats in the documentation: http://pandas.pydata.org/pandas-docs/stable/indexing.html#indexing-view-versus-copy\n",
      "  from ipykernel import kernelapp as app\n"
     ]
    }
   ],
   "source": [
    "remover=[\"with\",\"full\",\"audio\",\"support\",\"Traditional\",\"Simplified\"]\n",
    "\n",
    "for i in range(len(dados)):\n",
    "    tempa=dados.LINGUAS_N[i].split(\" \")\n",
    "    for a in remover:\n",
    "        if a in tempa:\n",
    "            tempa.remove(a)\n",
    "    dados.LINGUAS_N[i]=len(tempa)"
   ]
  },
  {
   "cell_type": "code",
   "execution_count": 6,
   "metadata": {
    "collapsed": true
   },
   "outputs": [],
   "source": [
    "def Plataforma(df):\n",
    "    a = df.PlatformWindows\n",
    "    b = df.PlatformMac\n",
    "    c = df.PlatformLinux\n",
    "    \n",
    "    if (a == \"VERDADEIRO\" and b == \"VERDADEIRO\" and c == \"VERDADEIRO\"): return \"Windows, Linux e Mac\"\n",
    "    elif (a == \"VERDADEIRO\" and b == \"VERDADEIRO\" and c == \"FALSO\"): return \"Windows e Mac\"\n",
    "    elif (a == \"VERDADEIRO\" and b == \"FALSO\" and c == \"FALSO\"): return \"Windows\"\n",
    "    elif (a == \"FALSO\" and b == \"VERDADEIRO\" and c == \"VERDADEIRO\"): return \"Mac e Linux\"\n",
    "    elif (a == \"FALSO\" and b == \"VERDADEIRO\" and c == \"FALSO\"): return \"Mac\"\n",
    "    elif (a == \"VERDADEIRO\" and b == \"FALSO\" and c == \"VERDADEIRO\"): return \"Windows e Linux\"\n",
    "    elif (a == \"FALSO\" and b == \"FALSO\" and c == \"VERDADEIRO\"): return \"Linux\"\n",
    "    else: return \"Nenhuma Plataforma\"\n",
    "\n",
    "Input = df.apply(Plataforma,axis=1)\n",
    "dados[\"PLATAFORMAS\"] = Input\n",
    "\n",
    "\n",
    "def Jogabilidade(df):\n",
    "    a = df.CategoryMultiplayer\n",
    "    b = df.CategorySinglePlayer\n",
    "    c = df.CategoryCoop\n",
    "    \n",
    "    if (a == \"VERDADEIRO\" and b == \"VERDADEIRO\" and c == \"VERDADEIRO\"): return \"MultiPlayer, SinglePlayer e Coop\"\n",
    "    elif (a == \"VERDADEIRO\" and b == \"VERDADEIRO\" and c == \"FALSO\"): return \"MultiPlayer e SinglePlayer\"\n",
    "    elif (a == \"VERDADEIRO\" and b == \"FALSO\" and c == \"FALSO\"): return \"MultiPlyer\"\n",
    "    elif (a == \"FALSO\" and b == \"VERDADEIRO\" and c == \"VERDADEIRO\"): return \"SinglePlayer e Coop\"\n",
    "    elif (a == \"FALSO\" and b == \"VERDADEIRO\" and c == \"FALSO\"): return \"SinglePlayer\"\n",
    "    elif (a == \"VERDADEIRO\" and b == \"FALSO\" and c == \"VERDADEIRO\"): return \"MultiPlayer e Coop\"\n",
    "    elif (a == \"FALSO\" and b == \"FALSO\" and c == \"VERDADEIRO\"): return \"Coop\"\n",
    "    else: return \"N/\"\n",
    "    \n",
    "Input2 = df.apply(Jogabilidade,axis=1)\n",
    "dados[\"JOGABILIDADE\"] = Input2\n",
    "\n"
   ]
  },
  {
   "cell_type": "code",
   "execution_count": 24,
   "metadata": {},
   "outputs": [
    {
     "data": {
      "text/plain": [
       "count    13351.000000\n",
       "mean       901.073028\n",
       "std       1289.628476\n",
       "min          0.000000\n",
       "25%        199.000000\n",
       "50%        599.000000\n",
       "75%        999.000000\n",
       "max      44999.000000\n",
       "Name: PRECO_INICIAL, dtype: float64"
      ]
     },
     "execution_count": 24,
     "metadata": {},
     "output_type": "execute_result"
    }
   ],
   "source": [
    "dados.PRECO_INICIAL.describe()"
   ]
  },
  {
   "cell_type": "markdown",
   "metadata": {},
   "source": [
    "### ANÁLISE DESCRITIVA"
   ]
  },
  {
   "cell_type": "code",
   "execution_count": 20,
   "metadata": {},
   "outputs": [
    {
     "data": {
      "text/html": [
       "<div>\n",
       "<table border=\"1\" class=\"dataframe\">\n",
       "  <thead>\n",
       "    <tr style=\"text-align: right;\">\n",
       "      <th>NUM_PROPRIETARIOS</th>\n",
       "      <th>0</th>\n",
       "      <th>533</th>\n",
       "      <th>535</th>\n",
       "      <th>538</th>\n",
       "      <th>539</th>\n",
       "      <th>717</th>\n",
       "      <th>803</th>\n",
       "      <th>808</th>\n",
       "      <th>897</th>\n",
       "      <th>1067</th>\n",
       "      <th>...</th>\n",
       "      <th>3610845</th>\n",
       "      <th>4000751</th>\n",
       "      <th>4571083</th>\n",
       "      <th>4819841</th>\n",
       "      <th>6400269</th>\n",
       "      <th>6796273</th>\n",
       "      <th>8165607</th>\n",
       "      <th>11319470</th>\n",
       "      <th>14001822</th>\n",
       "      <th>27025292</th>\n",
       "    </tr>\n",
       "    <tr>\n",
       "      <th>LINGUAS_N</th>\n",
       "      <th></th>\n",
       "      <th></th>\n",
       "      <th></th>\n",
       "      <th></th>\n",
       "      <th></th>\n",
       "      <th></th>\n",
       "      <th></th>\n",
       "      <th></th>\n",
       "      <th></th>\n",
       "      <th></th>\n",
       "      <th></th>\n",
       "      <th></th>\n",
       "      <th></th>\n",
       "      <th></th>\n",
       "      <th></th>\n",
       "      <th></th>\n",
       "      <th></th>\n",
       "      <th></th>\n",
       "      <th></th>\n",
       "      <th></th>\n",
       "      <th></th>\n",
       "    </tr>\n",
       "  </thead>\n",
       "  <tbody>\n",
       "    <tr>\n",
       "      <th>1</th>\n",
       "      <td>747</td>\n",
       "      <td>62</td>\n",
       "      <td>37</td>\n",
       "      <td>20</td>\n",
       "      <td>26</td>\n",
       "      <td>47</td>\n",
       "      <td>18</td>\n",
       "      <td>26</td>\n",
       "      <td>38</td>\n",
       "      <td>8</td>\n",
       "      <td>...</td>\n",
       "      <td>1</td>\n",
       "      <td>1</td>\n",
       "      <td>1</td>\n",
       "      <td>1</td>\n",
       "      <td>1</td>\n",
       "      <td>1</td>\n",
       "      <td>1</td>\n",
       "      <td>1</td>\n",
       "      <td>1</td>\n",
       "      <td>1</td>\n",
       "    </tr>\n",
       "  </tbody>\n",
       "</table>\n",
       "<p>1 rows × 909 columns</p>\n",
       "</div>"
      ],
      "text/plain": [
       "NUM_PROPRIETARIOS  0         533       535       538       539       717       \\\n",
       "LINGUAS_N                                                                       \n",
       "1                       747        62        37        20        26        47   \n",
       "\n",
       "NUM_PROPRIETARIOS  803       808       897       1067        ...     3610845   \\\n",
       "LINGUAS_N                                                    ...                \n",
       "1                        18        26        38         8    ...            1   \n",
       "\n",
       "NUM_PROPRIETARIOS  4000751   4571083   4819841   6400269   6796273   8165607   \\\n",
       "LINGUAS_N                                                                       \n",
       "1                         1         1         1         1         1         1   \n",
       "\n",
       "NUM_PROPRIETARIOS  11319470  14001822  27025292  \n",
       "LINGUAS_N                                        \n",
       "1                         1         1         1  \n",
       "\n",
       "[1 rows x 909 columns]"
      ]
     },
     "execution_count": 20,
     "metadata": {},
     "output_type": "execute_result"
    }
   ],
   "source": [
    "pd.crosstab(dados.LINGUAS_N[dados.LINGUAS_N == 1],dados.NUM_PROPRIETARIOS)"
   ]
  },
  {
   "cell_type": "code",
   "execution_count": null,
   "metadata": {
    "collapsed": true
   },
   "outputs": [],
   "source": [
    "\n"
   ]
  },
  {
   "cell_type": "code",
   "execution_count": null,
   "metadata": {
    "collapsed": true
   },
   "outputs": [],
   "source": []
  },
  {
   "cell_type": "markdown",
   "metadata": {},
   "source": [
    "___\n",
    "## MODELOS DE PREDIÇÃO"
   ]
  },
  {
   "cell_type": "markdown",
   "metadata": {
    "collapsed": true
   },
   "source": [
    "[O tópico C.PROCESSO E ESTATÍSTICAS DE VALIDAÇÃO estará dentro deste tópico. Organize-o aqui de forma clara!]\n",
    "\n",
    "[ORGANIZE AQUI TODOS OS MODELOS DE PREDIÇÃO NECESSÁRIOS NESTE PROJETO!]"
   ]
  },
  {
   "cell_type": "markdown",
   "metadata": {
    "collapsed": true
   },
   "source": [
    "o MODELO DE PREDIÇÃO PELA MÉDIA\n",
    "\n",
    "o MODELO DOS K VIZINHOS MAIS PRÓXIMOS (K-Nearest Neighbors Regression)\n",
    "\n",
    "o MODELO DE REGRESSÃO LINEAR (Multiple Linear Regression)\n",
    "\n",
    "o MODELO DE ÁRVORES DE REGRESSÃO (Decision Tree Regression)"
   ]
  },
  {
   "cell_type": "code",
   "execution_count": null,
   "metadata": {
    "collapsed": true
   },
   "outputs": [],
   "source": []
  },
  {
   "cell_type": "code",
   "execution_count": null,
   "metadata": {
    "collapsed": true
   },
   "outputs": [],
   "source": []
  },
  {
   "cell_type": "code",
   "execution_count": null,
   "metadata": {
    "collapsed": true
   },
   "outputs": [],
   "source": []
  },
  {
   "cell_type": "code",
   "execution_count": null,
   "metadata": {
    "collapsed": true
   },
   "outputs": [],
   "source": []
  },
  {
   "cell_type": "code",
   "execution_count": null,
   "metadata": {
    "collapsed": true
   },
   "outputs": [],
   "source": []
  },
  {
   "cell_type": "markdown",
   "metadata": {},
   "source": [
    "___\n",
    "## CONCLUSÃO"
   ]
  },
  {
   "cell_type": "code",
   "execution_count": null,
   "metadata": {
    "collapsed": true
   },
   "outputs": [],
   "source": []
  },
  {
   "cell_type": "code",
   "execution_count": null,
   "metadata": {
    "collapsed": true
   },
   "outputs": [],
   "source": []
  },
  {
   "cell_type": "code",
   "execution_count": null,
   "metadata": {
    "collapsed": true
   },
   "outputs": [],
   "source": []
  },
  {
   "cell_type": "markdown",
   "metadata": {},
   "source": [
    "___\n",
    "## REFERÊNCIAS BIBLIOGRÁFICAS"
   ]
  },
  {
   "cell_type": "code",
   "execution_count": null,
   "metadata": {
    "collapsed": true
   },
   "outputs": [],
   "source": []
  },
  {
   "cell_type": "code",
   "execution_count": null,
   "metadata": {
    "collapsed": true
   },
   "outputs": [],
   "source": []
  },
  {
   "cell_type": "code",
   "execution_count": null,
   "metadata": {
    "collapsed": true
   },
   "outputs": [],
   "source": []
  },
  {
   "cell_type": "code",
   "execution_count": null,
   "metadata": {
    "collapsed": true
   },
   "outputs": [],
   "source": []
  }
 ],
 "metadata": {
  "anaconda-cloud": {},
  "kernelspec": {
   "display_name": "Python 3",
   "language": "python",
   "name": "python3"
  },
  "language_info": {
   "codemirror_mode": {
    "name": "ipython",
    "version": 3
   },
   "file_extension": ".py",
   "mimetype": "text/x-python",
   "name": "python",
   "nbconvert_exporter": "python",
   "pygments_lexer": "ipython3",
   "version": "3.6.0"
  }
 },
 "nbformat": 4,
 "nbformat_minor": 1
}
