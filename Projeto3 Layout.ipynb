{
 "cells": [
  {
   "cell_type": "markdown",
   "metadata": {},
   "source": [
    "___\n",
    "# Ciência dos Dados - PROJETO 3 - INSPER"
   ]
  },
  {
   "cell_type": "markdown",
   "metadata": {},
   "source": [
    "___\n",
    "## Alexandre Edington\n",
    "\n",
    "## Bruno Cury\n",
    "\n",
    "## Matheus Soares\n",
    "\n",
    "___"
   ]
  },
  {
   "cell_type": "markdown",
   "metadata": {},
   "source": [
    "___\n",
    "\n",
    "## INTRODUÇÃO"
   ]
  },
  {
   "cell_type": "markdown",
   "metadata": {},
   "source": [
    "\n",
    "Não vem de hoje o grande interesse da sociedade em vídeo games, porém, há aproximadamente dez anos atrás, a visão que tínhamos sobre o ato de jogar vídeo game e sua indústria era completamente diferente.\n",
    "Em 2007 os jogos com maiores ambições comerciais projetavam um lucro multimilionário e a venda dos mesmos era feita através de discos que seriam rodados em seu console de preferência.\n",
    "Hoje em dia os consoles são apenas uma parcela do vasto universo de aparelhos que rodam vídeo games, e a venda destes jogos já não se da mais por discos, sua grande maioria vem de downloads e seus lucros são projetados na faixa dos biliões de dólares. Os videogames são agora, onipresentes em nossas vidas, qualquer um com um smartphone tem acesso a uma variedade de jogos, disponíveis na plataforma de download do seu sistema operacional (iOS, Android, google play), ou até nas redes sociais como Facebook, que se tornou uma grande plataforma de jogos online. \n",
    "Com isso em mente, resolvemos analisar os dados da maior plataforma de download de vídeo games da internet, afim de quantificar o impacto dos jogos no mundo por meio da análise de suas características mais importantes. E então, a partir desta análise, predizer o sucesso (ou falta dele) na arrecadação mundial de algum jogo, através do input de algumas de suas características."
   ]
  },
  {
   "cell_type": "markdown",
   "metadata": {},
   "source": [
    "___\n",
    "## MINERANDO DADOS e CARACTERÍSTICAS DO DATASET"
   ]
  },
  {
   "cell_type": "markdown",
   "metadata": {},
   "source": [
    "Os dados utilizados neste experimento foram retirados na integra do site data.world, onde são disponibilizados diversos bancos de dados; o Dataset escolhido é inteiramente referente às características dos jogos disponíveis na plataforma Steam. Inicialmente, o banco de dados em questão contava com mais de 70 variáveis e uma ampla quantidade de dados, porém o mesmo precisou ser filtrado, em prol da eficiência e organização foi feita a retirada de variáveis indesejadas e a retirada de dados nulos. Escolhemos também agrupar algumas variáveis, como as entradas de gênero (Indie, Action, Adventure, Casual, Strategy, RPG, Simulation, Sports, Racing), que se tornaram uma só variável, assim como a compatibilidade com Mac, Linux e Windows se tornaram uma só entrada."
   ]
  },
  {
   "cell_type": "code",
   "execution_count": 26,
   "metadata": {
    "collapsed": true
   },
   "outputs": [],
   "source": [
    "import pandas as pd\n",
    "import os\n",
    "from collections import Counter\n",
    "%matplotlib inline\n",
    "import numpy as np\n",
    "import matplotlib.pyplot as plt\n",
    "import math as math\n"
   ]
  },
  {
   "cell_type": "code",
   "execution_count": 2,
   "metadata": {
    "collapsed": true
   },
   "outputs": [],
   "source": [
    "df = pd.read_csv(\"games-features.csv\",error_bad_lines=False,sep=\";\")"
   ]
  },
  {
   "cell_type": "markdown",
   "metadata": {},
   "source": [
    "### BASE DE DADOS"
   ]
  },
  {
   "cell_type": "code",
   "execution_count": 3,
   "metadata": {
    "collapsed": true
   },
   "outputs": [],
   "source": [
    "dados = pd.DataFrame()\n",
    "dados[\"NOME\"] = df[\"ResponseName\"]\n",
    "dados[\"LANCAMENTO\"] = df[\"ReleaseDate\"]\n",
    "dados[\"ACHIEVEMENTS\"] = df[\"AchievementCount\"]\n",
    "dados[\"LINGUAS\"] = df[\"SupportedLanguages\"]\n",
    "dados[\"LINGUAS_N\"] = df[\"SupportedLanguages\"]\n",
    "dados[\"INDIE\"] = df[\"GenreIsIndie\"]\n",
    "dados[\"ACTION\"] = df[\"GenreIsAction\"]\n",
    "dados[\"ADVENTURE\"] = df[\"GenreIsAdventure\"]\n",
    "dados[\"CASUAL\"] = df[\"GenreIsCasual\"]\n",
    "dados[\"STRATEGY\"] = df[\"GenreIsStrategy\"]\n",
    "dados[\"RPG\"] = df[\"GenreIsRPG\"]\n",
    "dados[\"SIMULATION\"] = df[\"GenreIsSimulation\"]\n",
    "dados[\"SPORTS\"] = df[\"GenreIsSports\"]\n",
    "dados[\"RACING\"] = df[\"GenreIsRacing\"]\n",
    "dados[\"NUM_PROPRIETARIOS\"] = df[\"SteamSpyOwners\"]\n",
    "dados[\"PRECO_INICIAL\"] = df[\"PriceInitial\"]\n",
    "dados[\"PRECO_FINAL\"] = df[\"PriceFinal\"]"
   ]
  },
  {
   "cell_type": "code",
   "execution_count": null,
   "metadata": {
    "collapsed": true
   },
   "outputs": [],
   "source": []
  },
  {
   "cell_type": "code",
   "execution_count": 4,
   "metadata": {},
   "outputs": [
    {
     "name": "stderr",
     "output_type": "stream",
     "text": [
      "C:\\Users\\Bruno\\Anaconda3\\lib\\site-packages\\ipykernel\\__main__.py:8: SettingWithCopyWarning: \n",
      "A value is trying to be set on a copy of a slice from a DataFrame\n",
      "\n",
      "See the caveats in the documentation: http://pandas.pydata.org/pandas-docs/stable/indexing.html#indexing-view-versus-copy\n"
     ]
    }
   ],
   "source": [
    "remover=[\"with\",\"full\",\"audio\",\"support\",\"Traditional\",\"Simplified\"]\n",
    "\n",
    "for i in range(len(dados)):\n",
    "    tempa=dados.LINGUAS_N[i].split(\" \")\n",
    "    for a in remover:\n",
    "        if a in tempa:\n",
    "            tempa.remove(a)\n",
    "    dados.LINGUAS_N[i]=len(tempa)"
   ]
  },
  {
   "cell_type": "code",
   "execution_count": 5,
   "metadata": {
    "collapsed": true
   },
   "outputs": [],
   "source": [
    "def Plataforma(df):\n",
    "    a = df.PlatformWindows\n",
    "    b = df.PlatformMac\n",
    "    c = df.PlatformLinux\n",
    "    \n",
    "    if (a == \"VERDADEIRO\" and b == \"VERDADEIRO\" and c == \"VERDADEIRO\"): return \"Windows, Linux e Mac\"\n",
    "    elif (a == \"VERDADEIRO\" and b == \"VERDADEIRO\" and c == \"FALSO\"): return \"Windows e Mac\"\n",
    "    elif (a == \"VERDADEIRO\" and b == \"FALSO\" and c == \"FALSO\"): return \"Windows\"\n",
    "    elif (a == \"FALSO\" and b == \"VERDADEIRO\" and c == \"VERDADEIRO\"): return \"Mac e Linux\"\n",
    "    elif (a == \"FALSO\" and b == \"VERDADEIRO\" and c == \"FALSO\"): return \"Mac\"\n",
    "    elif (a == \"VERDADEIRO\" and b == \"FALSO\" and c == \"VERDADEIRO\"): return \"Windows e Linux\"\n",
    "    elif (a == \"FALSO\" and b == \"FALSO\" and c == \"VERDADEIRO\"): return \"Linux\"\n",
    "    else: return \"Nenhuma Plataforma\"\n",
    "\n",
    "Input = df.apply(Plataforma,axis=1)\n",
    "dados[\"PLATAFORMAS\"] = Input\n",
    "\n",
    "\n",
    "def Jogabilidade(df):\n",
    "    a = df.CategoryMultiplayer\n",
    "    b = df.CategorySinglePlayer\n",
    "    c = df.CategoryCoop\n",
    "    \n",
    "    if (a == \"VERDADEIRO\" and b == \"VERDADEIRO\" and c == \"VERDADEIRO\"): return \"MultiPlayer, SinglePlayer e Coop\"\n",
    "    elif (a == \"VERDADEIRO\" and b == \"VERDADEIRO\" and c == \"FALSO\"): return \"MultiPlayer e SinglePlayer\"\n",
    "    elif (a == \"VERDADEIRO\" and b == \"FALSO\" and c == \"FALSO\"): return \"MultiPlyer\"\n",
    "    elif (a == \"FALSO\" and b == \"VERDADEIRO\" and c == \"VERDADEIRO\"): return \"SinglePlayer e Coop\"\n",
    "    elif (a == \"FALSO\" and b == \"VERDADEIRO\" and c == \"FALSO\"): return \"SinglePlayer\"\n",
    "    elif (a == \"VERDADEIRO\" and b == \"FALSO\" and c == \"VERDADEIRO\"): return \"MultiPlayer e Coop\"\n",
    "    elif (a == \"FALSO\" and b == \"FALSO\" and c == \"VERDADEIRO\"): return \"Coop\"\n",
    "    else: return \"N/\"\n",
    "    \n",
    "Input2 = df.apply(Jogabilidade,axis=1)\n",
    "dados[\"JOGABILIDADE\"] = Input2\n",
    "\n"
   ]
  },
  {
   "cell_type": "markdown",
   "metadata": {},
   "source": [
    "### ANÁLISE DESCRITIVA"
   ]
  },
  {
   "cell_type": "code",
   "execution_count": null,
   "metadata": {},
   "outputs": [],
   "source": []
  },
  {
   "cell_type": "code",
   "execution_count": null,
   "metadata": {
    "collapsed": true
   },
   "outputs": [],
   "source": [
    "\n"
   ]
  },
  {
   "cell_type": "code",
   "execution_count": null,
   "metadata": {
    "collapsed": true
   },
   "outputs": [],
   "source": []
  },
  {
   "cell_type": "markdown",
   "metadata": {},
   "source": [
    "___\n",
    "## MODELOS DE PREDIÇÃO"
   ]
  },
  {
   "cell_type": "markdown",
   "metadata": {
    "collapsed": true
   },
   "source": [
    "[O tópico C.PROCESSO E ESTATÍSTICAS DE VALIDAÇÃO estará dentro deste tópico. Organize-o aqui de forma clara!]\n",
    "\n",
    "[ORGANIZE AQUI TODOS OS MODELOS DE PREDIÇÃO NECESSÁRIOS NESTE PROJETO!]"
   ]
  },
  {
   "cell_type": "markdown",
   "metadata": {
    "collapsed": true
   },
   "source": [
    "o MODELO DE PREDIÇÃO PELA MÉDIA\n",
    "\n",
    "o MODELO DOS K VIZINHOS MAIS PRÓXIMOS (K-Nearest Neighbors Regression)\n",
    "\n",
    "o MODELO DE REGRESSÃO LINEAR (Multiple Linear Regression)\n",
    "\n",
    "o MODELO DE ÁRVORES DE REGRESSÃO (Decision Tree Regression)"
   ]
  },
  {
   "cell_type": "code",
   "execution_count": 53,
   "metadata": {},
   "outputs": [],
   "source": [
    "#MODELO DE PREDICAO PELA MEDIA\n",
    "\n",
    "y = dados.NUM_PROPRIETARIOS.mean()\n",
    "f = dados.NUM_PROPRIETARIOS.mean()\n",
    "yi = dados.NUM_PROPRIETARIOS\n",
    "n = len(dados)\n"
   ]
  },
  {
   "cell_type": "code",
   "execution_count": 70,
   "metadata": {},
   "outputs": [],
   "source": [
    "# coeficiente de determinação (R2) E raiz do erro médio quadrático (RMS).\n",
    "def CoefDet(y,f,yi):\n",
    "    \n",
    "    num = ((yi-f)**2).sum()\n",
    "    den = ((yi-y)**2).sum()\n",
    "    R2 = 1 - (num/den)\n",
    "    \n",
    "    return[R2]"
   ]
  },
  {
   "cell_type": "code",
   "execution_count": 71,
   "metadata": {},
   "outputs": [],
   "source": [
    "def RSM(y,f,yi):\n",
    "    som = ((yi-y)**2).sum()\n",
    "    rsm = (1/n)*som\n",
    "    \n",
    "    return[rsm]\n"
   ]
  },
  {
   "cell_type": "code",
   "execution_count": null,
   "metadata": {
    "collapsed": true
   },
   "outputs": [],
   "source": []
  },
  {
   "cell_type": "code",
   "execution_count": null,
   "metadata": {
    "collapsed": true
   },
   "outputs": [],
   "source": []
  },
  {
   "cell_type": "code",
   "execution_count": null,
   "metadata": {
    "collapsed": true
   },
   "outputs": [],
   "source": []
  },
  {
   "cell_type": "markdown",
   "metadata": {},
   "source": [
    "___\n",
    "## CONCLUSÃO"
   ]
  },
  {
   "cell_type": "code",
   "execution_count": null,
   "metadata": {
    "collapsed": true
   },
   "outputs": [],
   "source": []
  },
  {
   "cell_type": "code",
   "execution_count": null,
   "metadata": {
    "collapsed": true
   },
   "outputs": [],
   "source": []
  },
  {
   "cell_type": "code",
   "execution_count": null,
   "metadata": {
    "collapsed": true
   },
   "outputs": [],
   "source": []
  },
  {
   "cell_type": "markdown",
   "metadata": {},
   "source": [
    "___\n",
    "## REFERÊNCIAS BIBLIOGRÁFICAS"
   ]
  },
  {
   "cell_type": "code",
   "execution_count": null,
   "metadata": {
    "collapsed": true
   },
   "outputs": [],
   "source": []
  },
  {
   "cell_type": "code",
   "execution_count": null,
   "metadata": {
    "collapsed": true
   },
   "outputs": [],
   "source": []
  },
  {
   "cell_type": "code",
   "execution_count": null,
   "metadata": {
    "collapsed": true
   },
   "outputs": [],
   "source": []
  },
  {
   "cell_type": "code",
   "execution_count": null,
   "metadata": {
    "collapsed": true
   },
   "outputs": [],
   "source": []
  }
 ],
 "metadata": {
  "anaconda-cloud": {},
  "kernelspec": {
   "display_name": "Python 3",
   "language": "python",
   "name": "python3"
  },
  "language_info": {
   "codemirror_mode": {
    "name": "ipython",
    "version": 3
   },
   "file_extension": ".py",
   "mimetype": "text/x-python",
   "name": "python",
   "nbconvert_exporter": "python",
   "pygments_lexer": "ipython3",
   "version": "3.6.0"
  }
 },
 "nbformat": 4,
 "nbformat_minor": 1
}
